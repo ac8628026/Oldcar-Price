{
 "cells": [
  {
   "cell_type": "code",
   "execution_count": 1,
   "metadata": {
    "_cell_guid": "b1076dfc-b9ad-4769-8c92-a6c4dae69d19",
    "_uuid": "8f2839f25d086af736a60e9eeb907d3b93b6e0e5",
    "execution": {
     "iopub.execute_input": "2023-07-04T10:59:21.936495Z",
     "iopub.status.busy": "2023-07-04T10:59:21.936074Z",
     "iopub.status.idle": "2023-07-04T10:59:21.969630Z",
     "shell.execute_reply": "2023-07-04T10:59:21.968737Z",
     "shell.execute_reply.started": "2023-07-04T10:59:21.936361Z"
    }
   },
   "outputs": [],
   "source": [
    "# This Python 3 environment comes with many helpful analytics libraries installed\n",
    "# It is defined by the kaggle/python Docker image: https://github.com/kaggle/docker-python\n",
    "# For example, here's several helpful packages to load\n",
    "\n",
    "import numpy as np # linear algebra\n",
    "import pandas as pd # data processing, CSV file I/O (e.g. pd.read_csv)\n",
    "\n",
    "# Input data files are available in the read-only \"../input/\" directory\n",
    "# For example, running this (by clicking run or pressing Shift+Enter) will list all files under the input directory\n",
    "\n",
    "import os\n",
    "for dirname, _, filenames in os.walk('/kaggle/input'):\n",
    "    for filename in filenames:\n",
    "        print(os.path.join(dirname, filename))\n",
    "\n",
    "# You can write up to 20GB to the current directory (/kaggle/working/) that gets preserved as output when you create a version using \"Save & Run All\" \n",
    "# You can also write temporary files to /kaggle/temp/, but they won't be saved outside of the current session"
   ]
  },
  {
   "cell_type": "code",
   "execution_count": 2,
   "metadata": {
    "execution": {
     "iopub.execute_input": "2023-07-04T10:59:21.971718Z",
     "iopub.status.busy": "2023-07-04T10:59:21.971241Z",
     "iopub.status.idle": "2023-07-04T10:59:22.011383Z",
     "shell.execute_reply": "2023-07-04T10:59:22.010806Z",
     "shell.execute_reply.started": "2023-07-04T10:59:21.971658Z"
    }
   },
   "outputs": [
    {
     "ename": "FileNotFoundError",
     "evalue": "[Errno 2] No such file or directory: '../input/intra-hall-competetion-2022/train_dataset.csv'",
     "output_type": "error",
     "traceback": [
      "\u001b[1;31m---------------------------------------------------------------------------\u001b[0m",
      "\u001b[1;31mFileNotFoundError\u001b[0m                         Traceback (most recent call last)",
      "\u001b[1;32mc:\\Users\\Ashok choudhary\\Desktop\\rupesh-kataria.ipynb Cell 2\u001b[0m in \u001b[0;36m1\n\u001b[1;32m----> <a href='vscode-notebook-cell:/c%3A/Users/Ashok%20choudhary/Desktop/rupesh-kataria.ipynb#W1sZmlsZQ%3D%3D?line=0'>1</a>\u001b[0m train_df\u001b[39m=\u001b[39mpd\u001b[39m.\u001b[39;49mread_csv(\u001b[39m\"\u001b[39;49m\u001b[39m../input/intra-hall-competetion-2022/train_dataset.csv\u001b[39;49m\u001b[39m\"\u001b[39;49m)\n\u001b[0;32m      <a href='vscode-notebook-cell:/c%3A/Users/Ashok%20choudhary/Desktop/rupesh-kataria.ipynb#W1sZmlsZQ%3D%3D?line=1'>2</a>\u001b[0m train_df\n",
      "File \u001b[1;32mc:\\Users\\Ashok choudhary\\AppData\\Local\\Programs\\Python\\Python310\\lib\\site-packages\\pandas\\util\\_decorators.py:211\u001b[0m, in \u001b[0;36mdeprecate_kwarg.<locals>._deprecate_kwarg.<locals>.wrapper\u001b[1;34m(*args, **kwargs)\u001b[0m\n\u001b[0;32m    209\u001b[0m     \u001b[39melse\u001b[39;00m:\n\u001b[0;32m    210\u001b[0m         kwargs[new_arg_name] \u001b[39m=\u001b[39m new_arg_value\n\u001b[1;32m--> 211\u001b[0m \u001b[39mreturn\u001b[39;00m func(\u001b[39m*\u001b[39margs, \u001b[39m*\u001b[39m\u001b[39m*\u001b[39mkwargs)\n",
      "File \u001b[1;32mc:\\Users\\Ashok choudhary\\AppData\\Local\\Programs\\Python\\Python310\\lib\\site-packages\\pandas\\util\\_decorators.py:331\u001b[0m, in \u001b[0;36mdeprecate_nonkeyword_arguments.<locals>.decorate.<locals>.wrapper\u001b[1;34m(*args, **kwargs)\u001b[0m\n\u001b[0;32m    325\u001b[0m \u001b[39mif\u001b[39;00m \u001b[39mlen\u001b[39m(args) \u001b[39m>\u001b[39m num_allow_args:\n\u001b[0;32m    326\u001b[0m     warnings\u001b[39m.\u001b[39mwarn(\n\u001b[0;32m    327\u001b[0m         msg\u001b[39m.\u001b[39mformat(arguments\u001b[39m=\u001b[39m_format_argument_list(allow_args)),\n\u001b[0;32m    328\u001b[0m         \u001b[39mFutureWarning\u001b[39;00m,\n\u001b[0;32m    329\u001b[0m         stacklevel\u001b[39m=\u001b[39mfind_stack_level(),\n\u001b[0;32m    330\u001b[0m     )\n\u001b[1;32m--> 331\u001b[0m \u001b[39mreturn\u001b[39;00m func(\u001b[39m*\u001b[39margs, \u001b[39m*\u001b[39m\u001b[39m*\u001b[39mkwargs)\n",
      "File \u001b[1;32mc:\\Users\\Ashok choudhary\\AppData\\Local\\Programs\\Python\\Python310\\lib\\site-packages\\pandas\\io\\parsers\\readers.py:950\u001b[0m, in \u001b[0;36mread_csv\u001b[1;34m(filepath_or_buffer, sep, delimiter, header, names, index_col, usecols, squeeze, prefix, mangle_dupe_cols, dtype, engine, converters, true_values, false_values, skipinitialspace, skiprows, skipfooter, nrows, na_values, keep_default_na, na_filter, verbose, skip_blank_lines, parse_dates, infer_datetime_format, keep_date_col, date_parser, dayfirst, cache_dates, iterator, chunksize, compression, thousands, decimal, lineterminator, quotechar, quoting, doublequote, escapechar, comment, encoding, encoding_errors, dialect, error_bad_lines, warn_bad_lines, on_bad_lines, delim_whitespace, low_memory, memory_map, float_precision, storage_options)\u001b[0m\n\u001b[0;32m    935\u001b[0m kwds_defaults \u001b[39m=\u001b[39m _refine_defaults_read(\n\u001b[0;32m    936\u001b[0m     dialect,\n\u001b[0;32m    937\u001b[0m     delimiter,\n\u001b[1;32m   (...)\u001b[0m\n\u001b[0;32m    946\u001b[0m     defaults\u001b[39m=\u001b[39m{\u001b[39m\"\u001b[39m\u001b[39mdelimiter\u001b[39m\u001b[39m\"\u001b[39m: \u001b[39m\"\u001b[39m\u001b[39m,\u001b[39m\u001b[39m\"\u001b[39m},\n\u001b[0;32m    947\u001b[0m )\n\u001b[0;32m    948\u001b[0m kwds\u001b[39m.\u001b[39mupdate(kwds_defaults)\n\u001b[1;32m--> 950\u001b[0m \u001b[39mreturn\u001b[39;00m _read(filepath_or_buffer, kwds)\n",
      "File \u001b[1;32mc:\\Users\\Ashok choudhary\\AppData\\Local\\Programs\\Python\\Python310\\lib\\site-packages\\pandas\\io\\parsers\\readers.py:605\u001b[0m, in \u001b[0;36m_read\u001b[1;34m(filepath_or_buffer, kwds)\u001b[0m\n\u001b[0;32m    602\u001b[0m _validate_names(kwds\u001b[39m.\u001b[39mget(\u001b[39m\"\u001b[39m\u001b[39mnames\u001b[39m\u001b[39m\"\u001b[39m, \u001b[39mNone\u001b[39;00m))\n\u001b[0;32m    604\u001b[0m \u001b[39m# Create the parser.\u001b[39;00m\n\u001b[1;32m--> 605\u001b[0m parser \u001b[39m=\u001b[39m TextFileReader(filepath_or_buffer, \u001b[39m*\u001b[39m\u001b[39m*\u001b[39mkwds)\n\u001b[0;32m    607\u001b[0m \u001b[39mif\u001b[39;00m chunksize \u001b[39mor\u001b[39;00m iterator:\n\u001b[0;32m    608\u001b[0m     \u001b[39mreturn\u001b[39;00m parser\n",
      "File \u001b[1;32mc:\\Users\\Ashok choudhary\\AppData\\Local\\Programs\\Python\\Python310\\lib\\site-packages\\pandas\\io\\parsers\\readers.py:1442\u001b[0m, in \u001b[0;36mTextFileReader.__init__\u001b[1;34m(self, f, engine, **kwds)\u001b[0m\n\u001b[0;32m   1439\u001b[0m     \u001b[39mself\u001b[39m\u001b[39m.\u001b[39moptions[\u001b[39m\"\u001b[39m\u001b[39mhas_index_names\u001b[39m\u001b[39m\"\u001b[39m] \u001b[39m=\u001b[39m kwds[\u001b[39m\"\u001b[39m\u001b[39mhas_index_names\u001b[39m\u001b[39m\"\u001b[39m]\n\u001b[0;32m   1441\u001b[0m \u001b[39mself\u001b[39m\u001b[39m.\u001b[39mhandles: IOHandles \u001b[39m|\u001b[39m \u001b[39mNone\u001b[39;00m \u001b[39m=\u001b[39m \u001b[39mNone\u001b[39;00m\n\u001b[1;32m-> 1442\u001b[0m \u001b[39mself\u001b[39m\u001b[39m.\u001b[39m_engine \u001b[39m=\u001b[39m \u001b[39mself\u001b[39;49m\u001b[39m.\u001b[39;49m_make_engine(f, \u001b[39mself\u001b[39;49m\u001b[39m.\u001b[39;49mengine)\n",
      "File \u001b[1;32mc:\\Users\\Ashok choudhary\\AppData\\Local\\Programs\\Python\\Python310\\lib\\site-packages\\pandas\\io\\parsers\\readers.py:1735\u001b[0m, in \u001b[0;36mTextFileReader._make_engine\u001b[1;34m(self, f, engine)\u001b[0m\n\u001b[0;32m   1733\u001b[0m     \u001b[39mif\u001b[39;00m \u001b[39m\"\u001b[39m\u001b[39mb\u001b[39m\u001b[39m\"\u001b[39m \u001b[39mnot\u001b[39;00m \u001b[39min\u001b[39;00m mode:\n\u001b[0;32m   1734\u001b[0m         mode \u001b[39m+\u001b[39m\u001b[39m=\u001b[39m \u001b[39m\"\u001b[39m\u001b[39mb\u001b[39m\u001b[39m\"\u001b[39m\n\u001b[1;32m-> 1735\u001b[0m \u001b[39mself\u001b[39m\u001b[39m.\u001b[39mhandles \u001b[39m=\u001b[39m get_handle(\n\u001b[0;32m   1736\u001b[0m     f,\n\u001b[0;32m   1737\u001b[0m     mode,\n\u001b[0;32m   1738\u001b[0m     encoding\u001b[39m=\u001b[39;49m\u001b[39mself\u001b[39;49m\u001b[39m.\u001b[39;49moptions\u001b[39m.\u001b[39;49mget(\u001b[39m\"\u001b[39;49m\u001b[39mencoding\u001b[39;49m\u001b[39m\"\u001b[39;49m, \u001b[39mNone\u001b[39;49;00m),\n\u001b[0;32m   1739\u001b[0m     compression\u001b[39m=\u001b[39;49m\u001b[39mself\u001b[39;49m\u001b[39m.\u001b[39;49moptions\u001b[39m.\u001b[39;49mget(\u001b[39m\"\u001b[39;49m\u001b[39mcompression\u001b[39;49m\u001b[39m\"\u001b[39;49m, \u001b[39mNone\u001b[39;49;00m),\n\u001b[0;32m   1740\u001b[0m     memory_map\u001b[39m=\u001b[39;49m\u001b[39mself\u001b[39;49m\u001b[39m.\u001b[39;49moptions\u001b[39m.\u001b[39;49mget(\u001b[39m\"\u001b[39;49m\u001b[39mmemory_map\u001b[39;49m\u001b[39m\"\u001b[39;49m, \u001b[39mFalse\u001b[39;49;00m),\n\u001b[0;32m   1741\u001b[0m     is_text\u001b[39m=\u001b[39;49mis_text,\n\u001b[0;32m   1742\u001b[0m     errors\u001b[39m=\u001b[39;49m\u001b[39mself\u001b[39;49m\u001b[39m.\u001b[39;49moptions\u001b[39m.\u001b[39;49mget(\u001b[39m\"\u001b[39;49m\u001b[39mencoding_errors\u001b[39;49m\u001b[39m\"\u001b[39;49m, \u001b[39m\"\u001b[39;49m\u001b[39mstrict\u001b[39;49m\u001b[39m\"\u001b[39;49m),\n\u001b[0;32m   1743\u001b[0m     storage_options\u001b[39m=\u001b[39;49m\u001b[39mself\u001b[39;49m\u001b[39m.\u001b[39;49moptions\u001b[39m.\u001b[39;49mget(\u001b[39m\"\u001b[39;49m\u001b[39mstorage_options\u001b[39;49m\u001b[39m\"\u001b[39;49m, \u001b[39mNone\u001b[39;49;00m),\n\u001b[0;32m   1744\u001b[0m )\n\u001b[0;32m   1745\u001b[0m \u001b[39massert\u001b[39;00m \u001b[39mself\u001b[39m\u001b[39m.\u001b[39mhandles \u001b[39mis\u001b[39;00m \u001b[39mnot\u001b[39;00m \u001b[39mNone\u001b[39;00m\n\u001b[0;32m   1746\u001b[0m f \u001b[39m=\u001b[39m \u001b[39mself\u001b[39m\u001b[39m.\u001b[39mhandles\u001b[39m.\u001b[39mhandle\n",
      "File \u001b[1;32mc:\\Users\\Ashok choudhary\\AppData\\Local\\Programs\\Python\\Python310\\lib\\site-packages\\pandas\\io\\common.py:856\u001b[0m, in \u001b[0;36mget_handle\u001b[1;34m(path_or_buf, mode, encoding, compression, memory_map, is_text, errors, storage_options)\u001b[0m\n\u001b[0;32m    851\u001b[0m \u001b[39melif\u001b[39;00m \u001b[39misinstance\u001b[39m(handle, \u001b[39mstr\u001b[39m):\n\u001b[0;32m    852\u001b[0m     \u001b[39m# Check whether the filename is to be opened in binary mode.\u001b[39;00m\n\u001b[0;32m    853\u001b[0m     \u001b[39m# Binary mode does not support 'encoding' and 'newline'.\u001b[39;00m\n\u001b[0;32m    854\u001b[0m     \u001b[39mif\u001b[39;00m ioargs\u001b[39m.\u001b[39mencoding \u001b[39mand\u001b[39;00m \u001b[39m\"\u001b[39m\u001b[39mb\u001b[39m\u001b[39m\"\u001b[39m \u001b[39mnot\u001b[39;00m \u001b[39min\u001b[39;00m ioargs\u001b[39m.\u001b[39mmode:\n\u001b[0;32m    855\u001b[0m         \u001b[39m# Encoding\u001b[39;00m\n\u001b[1;32m--> 856\u001b[0m         handle \u001b[39m=\u001b[39m \u001b[39mopen\u001b[39;49m(\n\u001b[0;32m    857\u001b[0m             handle,\n\u001b[0;32m    858\u001b[0m             ioargs\u001b[39m.\u001b[39;49mmode,\n\u001b[0;32m    859\u001b[0m             encoding\u001b[39m=\u001b[39;49mioargs\u001b[39m.\u001b[39;49mencoding,\n\u001b[0;32m    860\u001b[0m             errors\u001b[39m=\u001b[39;49merrors,\n\u001b[0;32m    861\u001b[0m             newline\u001b[39m=\u001b[39;49m\u001b[39m\"\u001b[39;49m\u001b[39m\"\u001b[39;49m,\n\u001b[0;32m    862\u001b[0m         )\n\u001b[0;32m    863\u001b[0m     \u001b[39melse\u001b[39;00m:\n\u001b[0;32m    864\u001b[0m         \u001b[39m# Binary mode\u001b[39;00m\n\u001b[0;32m    865\u001b[0m         handle \u001b[39m=\u001b[39m \u001b[39mopen\u001b[39m(handle, ioargs\u001b[39m.\u001b[39mmode)\n",
      "\u001b[1;31mFileNotFoundError\u001b[0m: [Errno 2] No such file or directory: '../input/intra-hall-competetion-2022/train_dataset.csv'"
     ]
    }
   ],
   "source": [
    "train_df=pd.read_csv(\"../input/intra-hall-competetion-2022/train_dataset.csv\")\n",
    "train_df"
   ]
  },
  {
   "cell_type": "code",
   "execution_count": null,
   "metadata": {
    "execution": {
     "iopub.execute_input": "2023-07-04T10:59:22.012874Z",
     "iopub.status.busy": "2023-07-04T10:59:22.012447Z",
     "iopub.status.idle": "2023-07-04T10:59:22.035824Z",
     "shell.execute_reply": "2023-07-04T10:59:22.035097Z",
     "shell.execute_reply.started": "2023-07-04T10:59:22.012812Z"
    }
   },
   "outputs": [
    {
     "data": {
      "text/html": [
       "<div>\n",
       "<style scoped>\n",
       "    .dataframe tbody tr th:only-of-type {\n",
       "        vertical-align: middle;\n",
       "    }\n",
       "\n",
       "    .dataframe tbody tr th {\n",
       "        vertical-align: top;\n",
       "    }\n",
       "\n",
       "    .dataframe thead th {\n",
       "        text-align: right;\n",
       "    }\n",
       "</style>\n",
       "<table border=\"1\" class=\"dataframe\">\n",
       "  <thead>\n",
       "    <tr style=\"text-align: right;\">\n",
       "      <th></th>\n",
       "      <th>v.id</th>\n",
       "      <th>on road old</th>\n",
       "      <th>on road now</th>\n",
       "      <th>years</th>\n",
       "      <th>km</th>\n",
       "      <th>rating</th>\n",
       "      <th>condition</th>\n",
       "      <th>economy</th>\n",
       "      <th>top speed</th>\n",
       "      <th>hp</th>\n",
       "      <th>torque</th>\n",
       "    </tr>\n",
       "  </thead>\n",
       "  <tbody>\n",
       "    <tr>\n",
       "      <th>0</th>\n",
       "      <td>801</td>\n",
       "      <td>691061</td>\n",
       "      <td>729248</td>\n",
       "      <td>3</td>\n",
       "      <td>140142</td>\n",
       "      <td>3</td>\n",
       "      <td>10</td>\n",
       "      <td>9</td>\n",
       "      <td>180</td>\n",
       "      <td>53</td>\n",
       "      <td>109</td>\n",
       "    </tr>\n",
       "    <tr>\n",
       "      <th>1</th>\n",
       "      <td>802</td>\n",
       "      <td>528256</td>\n",
       "      <td>773069</td>\n",
       "      <td>6</td>\n",
       "      <td>148374</td>\n",
       "      <td>2</td>\n",
       "      <td>7</td>\n",
       "      <td>13</td>\n",
       "      <td>137</td>\n",
       "      <td>65</td>\n",
       "      <td>90</td>\n",
       "    </tr>\n",
       "    <tr>\n",
       "      <th>2</th>\n",
       "      <td>803</td>\n",
       "      <td>589290</td>\n",
       "      <td>827825</td>\n",
       "      <td>5</td>\n",
       "      <td>58548</td>\n",
       "      <td>3</td>\n",
       "      <td>9</td>\n",
       "      <td>12</td>\n",
       "      <td>182</td>\n",
       "      <td>108</td>\n",
       "      <td>85</td>\n",
       "    </tr>\n",
       "    <tr>\n",
       "      <th>3</th>\n",
       "      <td>804</td>\n",
       "      <td>624433</td>\n",
       "      <td>875297</td>\n",
       "      <td>6</td>\n",
       "      <td>141733</td>\n",
       "      <td>1</td>\n",
       "      <td>5</td>\n",
       "      <td>15</td>\n",
       "      <td>155</td>\n",
       "      <td>74</td>\n",
       "      <td>113</td>\n",
       "    </tr>\n",
       "    <tr>\n",
       "      <th>4</th>\n",
       "      <td>805</td>\n",
       "      <td>667370</td>\n",
       "      <td>760930</td>\n",
       "      <td>6</td>\n",
       "      <td>69230</td>\n",
       "      <td>2</td>\n",
       "      <td>1</td>\n",
       "      <td>13</td>\n",
       "      <td>151</td>\n",
       "      <td>118</td>\n",
       "      <td>76</td>\n",
       "    </tr>\n",
       "    <tr>\n",
       "      <th>...</th>\n",
       "      <td>...</td>\n",
       "      <td>...</td>\n",
       "      <td>...</td>\n",
       "      <td>...</td>\n",
       "      <td>...</td>\n",
       "      <td>...</td>\n",
       "      <td>...</td>\n",
       "      <td>...</td>\n",
       "      <td>...</td>\n",
       "      <td>...</td>\n",
       "      <td>...</td>\n",
       "    </tr>\n",
       "    <tr>\n",
       "      <th>195</th>\n",
       "      <td>996</td>\n",
       "      <td>633238</td>\n",
       "      <td>743850</td>\n",
       "      <td>5</td>\n",
       "      <td>125092</td>\n",
       "      <td>1</td>\n",
       "      <td>6</td>\n",
       "      <td>11</td>\n",
       "      <td>171</td>\n",
       "      <td>95</td>\n",
       "      <td>97</td>\n",
       "    </tr>\n",
       "    <tr>\n",
       "      <th>196</th>\n",
       "      <td>997</td>\n",
       "      <td>599626</td>\n",
       "      <td>848195</td>\n",
       "      <td>4</td>\n",
       "      <td>83370</td>\n",
       "      <td>2</td>\n",
       "      <td>9</td>\n",
       "      <td>14</td>\n",
       "      <td>161</td>\n",
       "      <td>101</td>\n",
       "      <td>120</td>\n",
       "    </tr>\n",
       "    <tr>\n",
       "      <th>197</th>\n",
       "      <td>998</td>\n",
       "      <td>646344</td>\n",
       "      <td>842733</td>\n",
       "      <td>7</td>\n",
       "      <td>86722</td>\n",
       "      <td>1</td>\n",
       "      <td>8</td>\n",
       "      <td>9</td>\n",
       "      <td>196</td>\n",
       "      <td>113</td>\n",
       "      <td>89</td>\n",
       "    </tr>\n",
       "    <tr>\n",
       "      <th>198</th>\n",
       "      <td>999</td>\n",
       "      <td>535559</td>\n",
       "      <td>732439</td>\n",
       "      <td>2</td>\n",
       "      <td>140478</td>\n",
       "      <td>4</td>\n",
       "      <td>5</td>\n",
       "      <td>9</td>\n",
       "      <td>184</td>\n",
       "      <td>112</td>\n",
       "      <td>128</td>\n",
       "    </tr>\n",
       "    <tr>\n",
       "      <th>199</th>\n",
       "      <td>1000</td>\n",
       "      <td>590105</td>\n",
       "      <td>779743</td>\n",
       "      <td>5</td>\n",
       "      <td>67295</td>\n",
       "      <td>4</td>\n",
       "      <td>2</td>\n",
       "      <td>8</td>\n",
       "      <td>199</td>\n",
       "      <td>99</td>\n",
       "      <td>96</td>\n",
       "    </tr>\n",
       "  </tbody>\n",
       "</table>\n",
       "<p>200 rows × 11 columns</p>\n",
       "</div>"
      ],
      "text/plain": [
       "     v.id  on road old  on road now  years      km  rating  condition  \\\n",
       "0     801       691061       729248      3  140142       3         10   \n",
       "1     802       528256       773069      6  148374       2          7   \n",
       "2     803       589290       827825      5   58548       3          9   \n",
       "3     804       624433       875297      6  141733       1          5   \n",
       "4     805       667370       760930      6   69230       2          1   \n",
       "..    ...          ...          ...    ...     ...     ...        ...   \n",
       "195   996       633238       743850      5  125092       1          6   \n",
       "196   997       599626       848195      4   83370       2          9   \n",
       "197   998       646344       842733      7   86722       1          8   \n",
       "198   999       535559       732439      2  140478       4          5   \n",
       "199  1000       590105       779743      5   67295       4          2   \n",
       "\n",
       "     economy  top speed   hp  torque  \n",
       "0          9        180   53     109  \n",
       "1         13        137   65      90  \n",
       "2         12        182  108      85  \n",
       "3         15        155   74     113  \n",
       "4         13        151  118      76  \n",
       "..       ...        ...  ...     ...  \n",
       "195       11        171   95      97  \n",
       "196       14        161  101     120  \n",
       "197        9        196  113      89  \n",
       "198        9        184  112     128  \n",
       "199        8        199   99      96  \n",
       "\n",
       "[200 rows x 11 columns]"
      ]
     },
     "execution_count": 3,
     "metadata": {},
     "output_type": "execute_result"
    }
   ],
   "source": [
    "test_df=pd.read_csv(\"../input/intra-hall-competetion-2022/test_dataset.csv\")\n",
    "test_df"
   ]
  },
  {
   "cell_type": "code",
   "execution_count": null,
   "metadata": {
    "execution": {
     "iopub.execute_input": "2023-07-04T10:59:22.037824Z",
     "iopub.status.busy": "2023-07-04T10:59:22.037575Z",
     "iopub.status.idle": "2023-07-04T10:59:22.053576Z",
     "shell.execute_reply": "2023-07-04T10:59:22.052707Z",
     "shell.execute_reply.started": "2023-07-04T10:59:22.037795Z"
    }
   },
   "outputs": [
    {
     "data": {
      "text/html": [
       "<div>\n",
       "<style scoped>\n",
       "    .dataframe tbody tr th:only-of-type {\n",
       "        vertical-align: middle;\n",
       "    }\n",
       "\n",
       "    .dataframe tbody tr th {\n",
       "        vertical-align: top;\n",
       "    }\n",
       "\n",
       "    .dataframe thead th {\n",
       "        text-align: right;\n",
       "    }\n",
       "</style>\n",
       "<table border=\"1\" class=\"dataframe\">\n",
       "  <thead>\n",
       "    <tr style=\"text-align: right;\">\n",
       "      <th></th>\n",
       "      <th>v.id</th>\n",
       "      <th>current price</th>\n",
       "    </tr>\n",
       "  </thead>\n",
       "  <tbody>\n",
       "    <tr>\n",
       "      <th>0</th>\n",
       "      <td>801</td>\n",
       "      <td>0</td>\n",
       "    </tr>\n",
       "    <tr>\n",
       "      <th>1</th>\n",
       "      <td>802</td>\n",
       "      <td>0</td>\n",
       "    </tr>\n",
       "    <tr>\n",
       "      <th>2</th>\n",
       "      <td>803</td>\n",
       "      <td>0</td>\n",
       "    </tr>\n",
       "    <tr>\n",
       "      <th>3</th>\n",
       "      <td>804</td>\n",
       "      <td>0</td>\n",
       "    </tr>\n",
       "    <tr>\n",
       "      <th>4</th>\n",
       "      <td>805</td>\n",
       "      <td>0</td>\n",
       "    </tr>\n",
       "    <tr>\n",
       "      <th>...</th>\n",
       "      <td>...</td>\n",
       "      <td>...</td>\n",
       "    </tr>\n",
       "    <tr>\n",
       "      <th>195</th>\n",
       "      <td>996</td>\n",
       "      <td>0</td>\n",
       "    </tr>\n",
       "    <tr>\n",
       "      <th>196</th>\n",
       "      <td>997</td>\n",
       "      <td>0</td>\n",
       "    </tr>\n",
       "    <tr>\n",
       "      <th>197</th>\n",
       "      <td>998</td>\n",
       "      <td>0</td>\n",
       "    </tr>\n",
       "    <tr>\n",
       "      <th>198</th>\n",
       "      <td>999</td>\n",
       "      <td>0</td>\n",
       "    </tr>\n",
       "    <tr>\n",
       "      <th>199</th>\n",
       "      <td>1000</td>\n",
       "      <td>0</td>\n",
       "    </tr>\n",
       "  </tbody>\n",
       "</table>\n",
       "<p>200 rows × 2 columns</p>\n",
       "</div>"
      ],
      "text/plain": [
       "     v.id  current price\n",
       "0     801              0\n",
       "1     802              0\n",
       "2     803              0\n",
       "3     804              0\n",
       "4     805              0\n",
       "..    ...            ...\n",
       "195   996              0\n",
       "196   997              0\n",
       "197   998              0\n",
       "198   999              0\n",
       "199  1000              0\n",
       "\n",
       "[200 rows x 2 columns]"
      ]
     },
     "execution_count": 4,
     "metadata": {},
     "output_type": "execute_result"
    }
   ],
   "source": [
    "sample=pd.read_csv(\"../input/intra-hall-competetion-2022/sample_submision.csv\")\n",
    "sample"
   ]
  },
  {
   "cell_type": "code",
   "execution_count": null,
   "metadata": {
    "execution": {
     "iopub.execute_input": "2023-07-04T10:59:22.055007Z",
     "iopub.status.busy": "2023-07-04T10:59:22.054755Z",
     "iopub.status.idle": "2023-07-04T10:59:22.061280Z",
     "shell.execute_reply": "2023-07-04T10:59:22.060502Z",
     "shell.execute_reply.started": "2023-07-04T10:59:22.054977Z"
    }
   },
   "outputs": [
    {
     "data": {
      "text/plain": [
       "((1000, 12), (200, 11))"
      ]
     },
     "execution_count": 5,
     "metadata": {},
     "output_type": "execute_result"
    }
   ],
   "source": [
    "train_df.shape,test_df.shape"
   ]
  },
  {
   "cell_type": "code",
   "execution_count": null,
   "metadata": {
    "execution": {
     "iopub.execute_input": "2023-07-04T10:59:22.063059Z",
     "iopub.status.busy": "2023-07-04T10:59:22.062778Z",
     "iopub.status.idle": "2023-07-04T10:59:22.081920Z",
     "shell.execute_reply": "2023-07-04T10:59:22.081023Z",
     "shell.execute_reply.started": "2023-07-04T10:59:22.062988Z"
    }
   },
   "outputs": [
    {
     "data": {
      "text/plain": [
       "(1000, 12)"
      ]
     },
     "execution_count": 6,
     "metadata": {},
     "output_type": "execute_result"
    }
   ],
   "source": [
    "train_df.dropna(inplace=True)\n",
    "train_df.shape"
   ]
  },
  {
   "cell_type": "code",
   "execution_count": null,
   "metadata": {
    "execution": {
     "iopub.execute_input": "2023-07-04T10:59:22.084291Z",
     "iopub.status.busy": "2023-07-04T10:59:22.083614Z",
     "iopub.status.idle": "2023-07-04T10:59:22.093041Z",
     "shell.execute_reply": "2023-07-04T10:59:22.092104Z",
     "shell.execute_reply.started": "2023-07-04T10:59:22.084246Z"
    }
   },
   "outputs": [
    {
     "data": {
      "text/plain": [
       "(200, 11)"
      ]
     },
     "execution_count": 7,
     "metadata": {},
     "output_type": "execute_result"
    }
   ],
   "source": [
    "test_df.dropna(inplace=True)\n",
    "test_df.shape"
   ]
  },
  {
   "cell_type": "code",
   "execution_count": null,
   "metadata": {
    "execution": {
     "iopub.execute_input": "2023-07-04T10:59:22.095323Z",
     "iopub.status.busy": "2023-07-04T10:59:22.094787Z",
     "iopub.status.idle": "2023-07-04T10:59:22.103606Z",
     "shell.execute_reply": "2023-07-04T10:59:22.102832Z",
     "shell.execute_reply.started": "2023-07-04T10:59:22.095281Z"
    }
   },
   "outputs": [
    {
     "data": {
      "text/plain": [
       "array([[535651, 798186,      3, ...,    177,     73,    123],\n",
       "       [591911, 861056,      6, ...,    148,     74,     95],\n",
       "       [686990, 770762,      2, ...,    181,     53,     97],\n",
       "       ...,\n",
       "       [646344, 842733,      7, ...,    196,    113,     89],\n",
       "       [535559, 732439,      2, ...,    184,    112,    128],\n",
       "       [590105, 779743,      5, ...,    199,     99,     96]])"
      ]
     },
     "execution_count": 8,
     "metadata": {},
     "output_type": "execute_result"
    }
   ],
   "source": [
    "X=train_df.iloc[:,1:11].values\n",
    "X"
   ]
  },
  {
   "cell_type": "code",
   "execution_count": null,
   "metadata": {
    "execution": {
     "iopub.execute_input": "2023-07-04T10:59:22.104996Z",
     "iopub.status.busy": "2023-07-04T10:59:22.104763Z",
     "iopub.status.idle": "2023-07-04T10:59:22.114229Z",
     "shell.execute_reply": "2023-07-04T10:59:22.113659Z",
     "shell.execute_reply.started": "2023-07-04T10:59:22.104967Z"
    }
   },
   "outputs": [],
   "source": [
    "y=train_df.iloc[:,11:12].values\n",
    "\n",
    "\n"
   ]
  },
  {
   "cell_type": "code",
   "execution_count": null,
   "metadata": {
    "execution": {
     "iopub.execute_input": "2023-07-04T10:59:22.116750Z",
     "iopub.status.busy": "2023-07-04T10:59:22.116147Z",
     "iopub.status.idle": "2023-07-04T10:59:23.152598Z",
     "shell.execute_reply": "2023-07-04T10:59:23.151718Z",
     "shell.execute_reply.started": "2023-07-04T10:59:22.116704Z"
    }
   },
   "outputs": [],
   "source": [
    "from sklearn.model_selection import train_test_split\n",
    "X_train, X_test, y_train, y_test = train_test_split( X, y, test_size=0.1, random_state=42)\n",
    "from sklearn.preprocessing import StandardScaler\n",
    "sc=StandardScaler()\n",
    "X_train=sc.fit_transform(X_train)\n",
    "X_test=sc.transform(X_test)\n",
    "\n"
   ]
  },
  {
   "cell_type": "code",
   "execution_count": null,
   "metadata": {
    "execution": {
     "iopub.execute_input": "2023-07-04T10:59:23.154621Z",
     "iopub.status.busy": "2023-07-04T10:59:23.154129Z",
     "iopub.status.idle": "2023-07-04T10:59:23.241436Z",
     "shell.execute_reply": "2023-07-04T10:59:23.240543Z",
     "shell.execute_reply.started": "2023-07-04T10:59:23.154574Z"
    }
   },
   "outputs": [],
   "source": [
    "from sklearn.linear_model import LinearRegression\n",
    "linreg=LinearRegression()\n",
    "linreg.fit(X_train,y_train)\n",
    "yprelin=linreg.predict(X_test)\n",
    "\n",
    "\n",
    "\n"
   ]
  },
  {
   "cell_type": "code",
   "execution_count": null,
   "metadata": {
    "execution": {
     "iopub.execute_input": "2023-07-04T10:59:23.242904Z",
     "iopub.status.busy": "2023-07-04T10:59:23.242614Z",
     "iopub.status.idle": "2023-07-04T10:59:23.249976Z",
     "shell.execute_reply": "2023-07-04T10:59:23.249154Z",
     "shell.execute_reply.started": "2023-07-04T10:59:23.242871Z"
    }
   },
   "outputs": [
    {
     "data": {
      "text/plain": [
       "8733.580958311357"
      ]
     },
     "execution_count": 12,
     "metadata": {},
     "output_type": "execute_result"
    }
   ],
   "source": [
    "from sklearn.metrics import mean_squared_error\n",
    "rmse1=np.sqrt(mean_squared_error(y_test,yprelin))\n",
    "rmse1"
   ]
  },
  {
   "cell_type": "code",
   "execution_count": null,
   "metadata": {
    "execution": {
     "iopub.execute_input": "2023-07-04T10:59:23.251559Z",
     "iopub.status.busy": "2023-07-04T10:59:23.251308Z",
     "iopub.status.idle": "2023-07-04T10:59:23.797179Z",
     "shell.execute_reply": "2023-07-04T10:59:23.796107Z",
     "shell.execute_reply.started": "2023-07-04T10:59:23.251529Z"
    }
   },
   "outputs": [
    {
     "data": {
      "text/plain": [
       "637.4493842651352"
      ]
     },
     "execution_count": 13,
     "metadata": {},
     "output_type": "execute_result"
    }
   ],
   "source": [
    "from sklearn.preprocessing import PolynomialFeatures\n",
    "polyreg=PolynomialFeatures(degree=3)\n",
    "X_poly=polyreg.fit_transform(X_train)\n",
    "polyreg.fit(X_poly,y_train)\n",
    "linreg2=LinearRegression()\n",
    "linreg2.fit(X_poly,y_train)\n",
    "yprepoly=linreg2.predict(polyreg.fit_transform(X_test))\n",
    "rmse2=np.sqrt(mean_squared_error(y_test,yprepoly))\n",
    "rmse2"
   ]
  },
  {
   "cell_type": "markdown",
   "metadata": {},
   "source": []
  },
  {
   "cell_type": "code",
   "execution_count": null,
   "metadata": {
    "execution": {
     "iopub.execute_input": "2023-07-04T10:59:23.800542Z",
     "iopub.status.busy": "2023-07-04T10:59:23.800070Z",
     "iopub.status.idle": "2023-07-04T10:59:23.921450Z",
     "shell.execute_reply": "2023-07-04T10:59:23.920722Z",
     "shell.execute_reply.started": "2023-07-04T10:59:23.800501Z"
    }
   },
   "outputs": [
    {
     "data": {
      "text/plain": [
       "28866.13553105957"
      ]
     },
     "execution_count": 14,
     "metadata": {},
     "output_type": "execute_result"
    }
   ],
   "source": [
    "from sklearn.tree import DecisionTreeRegressor\n",
    "decreg=DecisionTreeRegressor(random_state=0)\n",
    "decreg.fit(X_train,y_train)\n",
    "ypredecreg=decreg.predict(X_test)\n",
    "rmse3=np.sqrt(mean_squared_error(y_test,ypredecreg))\n",
    "rmse3"
   ]
  },
  {
   "cell_type": "code",
   "execution_count": null,
   "metadata": {
    "execution": {
     "iopub.execute_input": "2023-07-04T10:59:23.923100Z",
     "iopub.status.busy": "2023-07-04T10:59:23.922823Z",
     "iopub.status.idle": "2023-07-04T10:59:23.928904Z",
     "shell.execute_reply": "2023-07-04T10:59:23.928075Z",
     "shell.execute_reply.started": "2023-07-04T10:59:23.923059Z"
    }
   },
   "outputs": [],
   "source": [
    "param ={\n",
    "    \"max_depth\":[2,3,4,5,8,9],\n",
    "    \"min_samples_leaf\":[1,3,5,2,4,6,7],\"min_samples_split\":[2,3,4,5,6,8,9],\"max_leaf_nodes\":[2,3,4,5]\n",
    "}"
   ]
  },
  {
   "cell_type": "code",
   "execution_count": null,
   "metadata": {
    "execution": {
     "iopub.execute_input": "2023-07-04T10:59:23.931064Z",
     "iopub.status.busy": "2023-07-04T10:59:23.930431Z",
     "iopub.status.idle": "2023-07-04T10:59:23.941515Z",
     "shell.execute_reply": "2023-07-04T10:59:23.940533Z",
     "shell.execute_reply.started": "2023-07-04T10:59:23.931020Z"
    }
   },
   "outputs": [],
   "source": [
    "from sklearn.model_selection import GridSearchCV\n",
    "grid=GridSearchCV(DecisionTreeRegressor(),param_grid=param,cv=15)"
   ]
  },
  {
   "cell_type": "code",
   "execution_count": null,
   "metadata": {
    "execution": {
     "iopub.execute_input": "2023-07-04T10:59:23.943811Z",
     "iopub.status.busy": "2023-07-04T10:59:23.942964Z",
     "iopub.status.idle": "2023-07-04T11:00:11.566397Z",
     "shell.execute_reply": "2023-07-04T11:00:11.565555Z",
     "shell.execute_reply.started": "2023-07-04T10:59:23.943764Z"
    }
   },
   "outputs": [
    {
     "data": {
      "text/plain": [
       "GridSearchCV(cv=15, estimator=DecisionTreeRegressor(),\n",
       "             param_grid={'max_depth': [2, 3, 4, 5, 8, 9],\n",
       "                         'max_leaf_nodes': [2, 3, 4, 5],\n",
       "                         'min_samples_leaf': [1, 3, 5, 2, 4, 6, 7],\n",
       "                         'min_samples_split': [2, 3, 4, 5, 6, 8, 9]})"
      ]
     },
     "execution_count": 17,
     "metadata": {},
     "output_type": "execute_result"
    }
   ],
   "source": [
    "grid.fit(X_train,y_train)"
   ]
  },
  {
   "cell_type": "code",
   "execution_count": null,
   "metadata": {
    "execution": {
     "iopub.execute_input": "2023-07-04T11:00:11.568059Z",
     "iopub.status.busy": "2023-07-04T11:00:11.567753Z",
     "iopub.status.idle": "2023-07-04T11:00:11.574568Z",
     "shell.execute_reply": "2023-07-04T11:00:11.573652Z",
     "shell.execute_reply.started": "2023-07-04T11:00:11.568017Z"
    }
   },
   "outputs": [
    {
     "data": {
      "text/plain": [
       "{'max_depth': 3,\n",
       " 'max_leaf_nodes': 5,\n",
       " 'min_samples_leaf': 1,\n",
       " 'min_samples_split': 2}"
      ]
     },
     "execution_count": 18,
     "metadata": {},
     "output_type": "execute_result"
    }
   ],
   "source": [
    "grid.best_params_"
   ]
  },
  {
   "cell_type": "code",
   "execution_count": null,
   "metadata": {
    "execution": {
     "iopub.execute_input": "2023-07-04T11:00:11.576191Z",
     "iopub.status.busy": "2023-07-04T11:00:11.575919Z",
     "iopub.status.idle": "2023-07-04T11:00:11.589550Z",
     "shell.execute_reply": "2023-07-04T11:00:11.588663Z",
     "shell.execute_reply.started": "2023-07-04T11:00:11.576160Z"
    }
   },
   "outputs": [
    {
     "data": {
      "text/plain": [
       "0.8346579191762313"
      ]
     },
     "execution_count": 19,
     "metadata": {},
     "output_type": "execute_result"
    }
   ],
   "source": [
    "grid.best_score_"
   ]
  },
  {
   "cell_type": "code",
   "execution_count": null,
   "metadata": {
    "execution": {
     "iopub.execute_input": "2023-07-04T11:00:11.592995Z",
     "iopub.status.busy": "2023-07-04T11:00:11.592764Z",
     "iopub.status.idle": "2023-07-04T11:00:11.607410Z",
     "shell.execute_reply": "2023-07-04T11:00:11.606421Z",
     "shell.execute_reply.started": "2023-07-04T11:00:11.592966Z"
    }
   },
   "outputs": [
    {
     "data": {
      "text/plain": [
       "50393.76895764481"
      ]
     },
     "execution_count": 20,
     "metadata": {},
     "output_type": "execute_result"
    }
   ],
   "source": [
    "DTR=DecisionTreeRegressor(random_state=0,max_depth= 3, min_samples_leaf=1, min_samples_split= 2,max_leaf_nodes= 5)\n",
    "DTR.fit(X_train,y_train)\n",
    "y_pred=DTR.predict(X_test)\n",
    "rmse4=np.sqrt(mean_squared_error(y_test,y_pred))\n",
    "rmse4"
   ]
  },
  {
   "cell_type": "code",
   "execution_count": null,
   "metadata": {
    "execution": {
     "iopub.execute_input": "2023-07-04T11:00:11.608885Z",
     "iopub.status.busy": "2023-07-04T11:00:11.608604Z",
     "iopub.status.idle": "2023-07-04T11:00:11.697477Z",
     "shell.execute_reply": "2023-07-04T11:00:11.696653Z",
     "shell.execute_reply.started": "2023-07-04T11:00:11.608853Z"
    }
   },
   "outputs": [
    {
     "data": {
      "text/plain": [
       "18387.575945574637"
      ]
     },
     "execution_count": 21,
     "metadata": {},
     "output_type": "execute_result"
    }
   ],
   "source": [
    "from sklearn.ensemble import RandomForestRegressor\n",
    "rfr=RandomForestRegressor(n_estimators=10,random_state=0)\n",
    "rfr.fit(X_train,y_train.ravel())\n",
    "y_predict=rfr.predict(X_test)\n",
    "rmse5=np.sqrt(mean_squared_error(y_test,y_predict))\n",
    "rmse5\n",
    "\n"
   ]
  },
  {
   "cell_type": "code",
   "execution_count": null,
   "metadata": {
    "execution": {
     "iopub.execute_input": "2023-07-04T11:00:11.699299Z",
     "iopub.status.busy": "2023-07-04T11:00:11.698775Z",
     "iopub.status.idle": "2023-07-04T11:00:11.704342Z",
     "shell.execute_reply": "2023-07-04T11:00:11.703518Z",
     "shell.execute_reply.started": "2023-07-04T11:00:11.699255Z"
    }
   },
   "outputs": [],
   "source": [
    "param={\n",
    "    \"n_estimators\":[50],\"max_depth\":[3], \"min_samples_leaf\":[4],\"min_samples_split\":[2],\"max_leaf_nodes\":[4]\n",
    "    \n",
    "}"
   ]
  },
  {
   "cell_type": "code",
   "execution_count": null,
   "metadata": {
    "execution": {
     "iopub.execute_input": "2023-07-04T11:00:11.706073Z",
     "iopub.status.busy": "2023-07-04T11:00:11.705836Z",
     "iopub.status.idle": "2023-07-04T11:00:13.926251Z",
     "shell.execute_reply": "2023-07-04T11:00:13.925480Z",
     "shell.execute_reply.started": "2023-07-04T11:00:11.706044Z"
    }
   },
   "outputs": [
    {
     "data": {
      "text/plain": [
       "{'max_depth': 3,\n",
       " 'max_leaf_nodes': 4,\n",
       " 'min_samples_leaf': 4,\n",
       " 'min_samples_split': 2,\n",
       " 'n_estimators': 50}"
      ]
     },
     "execution_count": 23,
     "metadata": {},
     "output_type": "execute_result"
    }
   ],
   "source": [
    "grid2=GridSearchCV(RandomForestRegressor(),param_grid=param,cv=15)\n",
    "grid2.fit(X_train,y_train.ravel())\n",
    "grid2.best_params_\n",
    "\n",
    "\n",
    "\n",
    "\n"
   ]
  },
  {
   "cell_type": "code",
   "execution_count": null,
   "metadata": {
    "execution": {
     "iopub.execute_input": "2023-07-04T11:00:13.927882Z",
     "iopub.status.busy": "2023-07-04T11:00:13.927622Z",
     "iopub.status.idle": "2023-07-04T11:00:14.080403Z",
     "shell.execute_reply": "2023-07-04T11:00:14.079409Z",
     "shell.execute_reply.started": "2023-07-04T11:00:13.927851Z"
    }
   },
   "outputs": [
    {
     "data": {
      "text/plain": [
       "48670.47534172705"
      ]
     },
     "execution_count": 24,
     "metadata": {},
     "output_type": "execute_result"
    }
   ],
   "source": [
    "RFR=RandomForestRegressor(n_estimators=50,random_state=0,max_depth= 3, min_samples_leaf=4, min_samples_split= 2,max_leaf_nodes= 4)\n",
    "RFR.fit(X_train,y_train.ravel())\n",
    "y_pred=RFR.predict(X_test)\n",
    "rmse6=np.sqrt(mean_squared_error(y_test,y_pred))\n",
    "rmse6\n",
    "\n",
    "\n"
   ]
  },
  {
   "cell_type": "code",
   "execution_count": null,
   "metadata": {
    "execution": {
     "iopub.execute_input": "2023-07-04T11:00:14.084347Z",
     "iopub.status.busy": "2023-07-04T11:00:14.084070Z",
     "iopub.status.idle": "2023-07-04T11:00:14.089806Z",
     "shell.execute_reply": "2023-07-04T11:00:14.088974Z",
     "shell.execute_reply.started": "2023-07-04T11:00:14.084315Z"
    }
   },
   "outputs": [],
   "source": [
    "reqx=test_df.iloc[:,1:11].values\n",
    "#X1=sc.fit_transform(reqx)\n",
    "#y1=linreg2.predict(polyreg.fit_transform(X1)) 1 20,000\n",
    "#y1=decreg.predict(X1) 28,000\n",
    "y1=linreg.predict(reqx) \n",
    "#y1=rfr.predict(X1)    23000\n",
    "#y1=RFR.predict(X1)\n",
    "\n"
   ]
  },
  {
   "cell_type": "code",
   "execution_count": null,
   "metadata": {
    "execution": {
     "iopub.execute_input": "2023-07-04T11:00:14.091715Z",
     "iopub.status.busy": "2023-07-04T11:00:14.091401Z",
     "iopub.status.idle": "2023-07-04T11:00:14.119495Z",
     "shell.execute_reply": "2023-07-04T11:00:14.118675Z",
     "shell.execute_reply.started": "2023-07-04T11:00:14.091657Z"
    }
   },
   "outputs": [
    {
     "data": {
      "text/html": [
       "<div>\n",
       "<style scoped>\n",
       "    .dataframe tbody tr th:only-of-type {\n",
       "        vertical-align: middle;\n",
       "    }\n",
       "\n",
       "    .dataframe tbody tr th {\n",
       "        vertical-align: top;\n",
       "    }\n",
       "\n",
       "    .dataframe thead th {\n",
       "        text-align: right;\n",
       "    }\n",
       "</style>\n",
       "<table border=\"1\" class=\"dataframe\">\n",
       "  <thead>\n",
       "    <tr style=\"text-align: right;\">\n",
       "      <th></th>\n",
       "      <th>v.id</th>\n",
       "      <th>current price</th>\n",
       "    </tr>\n",
       "  </thead>\n",
       "  <tbody>\n",
       "    <tr>\n",
       "      <th>0</th>\n",
       "      <td>801</td>\n",
       "      <td>2.484850e+10</td>\n",
       "    </tr>\n",
       "    <tr>\n",
       "      <th>1</th>\n",
       "      <td>802</td>\n",
       "      <td>2.038306e+10</td>\n",
       "    </tr>\n",
       "    <tr>\n",
       "      <th>2</th>\n",
       "      <td>803</td>\n",
       "      <td>3.417676e+10</td>\n",
       "    </tr>\n",
       "    <tr>\n",
       "      <th>3</th>\n",
       "      <td>804</td>\n",
       "      <td>2.690030e+10</td>\n",
       "    </tr>\n",
       "    <tr>\n",
       "      <th>4</th>\n",
       "      <td>805</td>\n",
       "      <td>3.330305e+10</td>\n",
       "    </tr>\n",
       "    <tr>\n",
       "      <th>...</th>\n",
       "      <td>...</td>\n",
       "      <td>...</td>\n",
       "    </tr>\n",
       "    <tr>\n",
       "      <th>195</th>\n",
       "      <td>996</td>\n",
       "      <td>2.532343e+10</td>\n",
       "    </tr>\n",
       "    <tr>\n",
       "      <th>196</th>\n",
       "      <td>997</td>\n",
       "      <td>3.217899e+10</td>\n",
       "    </tr>\n",
       "    <tr>\n",
       "      <th>197</th>\n",
       "      <td>998</td>\n",
       "      <td>3.300027e+10</td>\n",
       "    </tr>\n",
       "    <tr>\n",
       "      <th>198</th>\n",
       "      <td>999</td>\n",
       "      <td>2.034955e+10</td>\n",
       "    </tr>\n",
       "    <tr>\n",
       "      <th>199</th>\n",
       "      <td>1000</td>\n",
       "      <td>3.180575e+10</td>\n",
       "    </tr>\n",
       "  </tbody>\n",
       "</table>\n",
       "<p>200 rows × 2 columns</p>\n",
       "</div>"
      ],
      "text/plain": [
       "     v.id  current price\n",
       "0     801   2.484850e+10\n",
       "1     802   2.038306e+10\n",
       "2     803   3.417676e+10\n",
       "3     804   2.690030e+10\n",
       "4     805   3.330305e+10\n",
       "..    ...            ...\n",
       "195   996   2.532343e+10\n",
       "196   997   3.217899e+10\n",
       "197   998   3.300027e+10\n",
       "198   999   2.034955e+10\n",
       "199  1000   3.180575e+10\n",
       "\n",
       "[200 rows x 2 columns]"
      ]
     },
     "execution_count": 26,
     "metadata": {},
     "output_type": "execute_result"
    }
   ],
   "source": [
    "\n",
    "#q=np.array(y)\n",
    "#p=np.array(sample['v.id'])\n",
    "x1=sample.iloc[:,0].values\n",
    "y1=y1.flatten()\n",
    "submission=pd.DataFrame({'v.id':x1,'current price':y1})\n",
    "submission.to_csv(\"submission.csv\",index=None)\n",
    "submission\n",
    "\n",
    "\n",
    "\n",
    "\n",
    "\n"
   ]
  },
  {
   "cell_type": "code",
   "execution_count": null,
   "metadata": {},
   "outputs": [],
   "source": []
  }
 ],
 "metadata": {
  "kernelspec": {
   "display_name": "Python 3 (ipykernel)",
   "language": "python",
   "name": "python3"
  },
  "language_info": {
   "codemirror_mode": {
    "name": "ipython",
    "version": 3
   },
   "file_extension": ".py",
   "mimetype": "text/x-python",
   "name": "python",
   "nbconvert_exporter": "python",
   "pygments_lexer": "ipython3",
   "version": "3.10.1"
  }
 },
 "nbformat": 4,
 "nbformat_minor": 4
}
